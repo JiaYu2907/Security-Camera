{
 "cells": [
  {
   "cell_type": "code",
   "execution_count": 1,
   "metadata": {},
   "outputs": [
    {
     "name": "stdout",
     "output_type": "stream",
     "text": [
      "pygame 2.0.1 (SDL 2.0.14, Python 3.7.4)\n",
      "Hello from the pygame community. https://www.pygame.org/contribute.html\n"
     ]
    }
   ],
   "source": [
    "import cv2\n",
    "from pygame import mixer\n",
    "\n",
    "mixer.init()\n",
    "\n",
    "mixer.music.load('alert.wav')\n",
    "\n",
    "camera = cv2.VideoCapture(0) #camera amount\n",
    "\n",
    "while camera.isOpened():\n",
    "    r, frame = camera.read()\n",
    "    r, newframe = camera.read()\n",
    "    \n",
    "    difference = cv2.absdiff(frame, newframe)\n",
    "    gray = cv2.cvtColor(difference, cv2.COLOR_RGB2GRAY) #change movement to grey \n",
    "    blur = cv2.GaussianBlur(gray, (5,5), 0) #set video to blur\n",
    "    _, threshold = cv2.threshold(blur, 20,255, cv2.THRESH_BINARY) \n",
    "    #to detect small movement, by seeing more clear\n",
    "    \n",
    "    dilate = cv2.dilate(threshold, None, iterations =3)\n",
    "    contours,_ = cv2.findContours(dilate, cv2.RETR_TREE, cv2.CHAIN_APPROX_SIMPLE)\n",
    "    \n",
    "    for c in contours:\n",
    "        if cv2.contourArea(c) < 5000:\n",
    "            continue\n",
    "        x,y,w,h = cv2.boundingRect(c)\n",
    "        \n",
    "        cv2.rectangle(frame, (x,y), (x+w, y+h), (0,255,0), 3) #frame size of the rectangle, color, and thickness\n",
    "        mixer.music.play()\n",
    "        \n",
    "    if cv2.waitKey(3) == ord('q'): #quit then break the loop\n",
    "        break \n",
    "\n",
    "    cv2.imshow(\"Personal Security Camera\", frame) #title of the window"
   ]
  },
  {
   "cell_type": "code",
   "execution_count": null,
   "metadata": {},
   "outputs": [],
   "source": []
  },
  {
   "cell_type": "code",
   "execution_count": null,
   "metadata": {},
   "outputs": [],
   "source": []
  }
 ],
 "metadata": {
  "kernelspec": {
   "display_name": "Python 3",
   "language": "python",
   "name": "python3"
  },
  "language_info": {
   "codemirror_mode": {
    "name": "ipython",
    "version": 3
   },
   "file_extension": ".py",
   "mimetype": "text/x-python",
   "name": "python",
   "nbconvert_exporter": "python",
   "pygments_lexer": "ipython3",
   "version": "3.7.4"
  }
 },
 "nbformat": 4,
 "nbformat_minor": 4
}
